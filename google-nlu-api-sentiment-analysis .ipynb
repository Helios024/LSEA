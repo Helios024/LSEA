{
 "cells": [
  {
   "cell_type": "code",
   "execution_count": 1,
   "id": "846b8923",
   "metadata": {},
   "outputs": [
    {
     "data": {
      "text/plain": [
       "(9238, 3)"
      ]
     },
     "execution_count": 1,
     "metadata": {},
     "output_type": "execute_result"
    }
   ],
   "source": [
    "#Getting the clean text, and keywords created using pre-processing.ipynb\n",
    "import pandas as pd\n",
    "df = pd.read_csv(\"Testing_Data.csv\")\n",
    "cleantext = df[\"Response\"]\n",
    "target = df[\"Target\"]\n",
    "#keywords = df[\"Keywords\"]\n",
    "df.shape"
   ]
  },
  {
   "cell_type": "markdown",
   "id": "a4c3b9ec",
   "metadata": {},
   "source": [
    "with open('testcleantxt.txt','w') as f:\n",
    "    f.write(cleantxt)\n",
    "f.close()"
   ]
  },
  {
   "cell_type": "code",
   "execution_count": null,
   "id": "96bfcdae",
   "metadata": {},
   "outputs": [],
   "source": [
    "cleantxt = ''\n",
    "for text in cleantext:\n",
    "    cleantxt += str(text)\n",
    "    cleantxt += '\\n'\n",
    "cleantxt"
   ]
  },
  {
   "cell_type": "code",
   "execution_count": 6,
   "id": "8bf73eb5",
   "metadata": {},
   "outputs": [],
   "source": [
    "#Using Google API\n",
    "textList = []\n",
    "sentimentScore = []\n",
    "sentimentMagnitude = []\n",
    "import argparse\n",
    "import os\n",
    "from google.cloud import language_v1\n",
    "text = ' '\n",
    "credential_path = \"nlu-analy-970fa935f2d8.json\"\n",
    "os.environ['GOOGLE_APPLICATION_CREDENTIALS'] = credential_path\n",
    "client = language_v1.LanguageServiceClient()\n",
    "##The File is opennned 5 times because it was giving an unknown error for large amount of data\n",
    "with open('testcleantxt.txt','r') as f:\n",
    "    for i in range(4619):\n",
    "    #for i in range (5542):\n",
    "        text = f.readline()\n",
    "        document = language_v1.Document(content=text, type_=language_v1.Document.Type.PLAIN_TEXT)\n",
    "        sentiment = client.analyze_sentiment(request={\"document\": document}).document_sentiment\n",
    "        textList.append(text)\n",
    "        sentimentScore.append(sentiment.score)\n",
    "        sentimentMagnitude.append(sentiment.magnitude)\n"
   ]
  },
  {
   "cell_type": "code",
   "execution_count": 7,
   "id": "4ee9ae06",
   "metadata": {},
   "outputs": [],
   "source": [
    "with open('testcleantxt.txt','r') as f:\n",
    "    for i in range (4619):\n",
    "        text = f.readline()\n",
    "    #for i in range (5543):\n",
    "    for i in range (4619):\n",
    "        text = f.readline()\n",
    "        document = language_v1.Document(content=text, type_=language_v1.Document.Type.PLAIN_TEXT)\n",
    "        sentiment = client.analyze_sentiment(request={\"document\": document}).document_sentiment\n",
    "        textList.append(text)\n",
    "        sentimentScore.append(sentiment.score)\n",
    "        sentimentMagnitude.append(sentiment.magnitude)"
   ]
  },
  {
   "cell_type": "code",
   "execution_count": null,
   "id": "07c0b143",
   "metadata": {},
   "outputs": [],
   "source": [
    "with open('testcleantxt.txt','r') as f:\n",
    "    for i in range (11085):\n",
    "        text = f.readline()\n",
    "    for i in range (5543):\n",
    "        text = f.readline()\n",
    "        document = language_v1.Document(content=text, type_=language_v1.Document.Type.PLAIN_TEXT)\n",
    "        sentiment = client.analyze_sentiment(request={\"document\": document}).document_sentiment\n",
    "        textList.append(text)\n",
    "        sentimentScore.append(sentiment.score)\n",
    "        sentimentMagnitude.append(sentiment.magnitude)"
   ]
  },
  {
   "cell_type": "code",
   "execution_count": null,
   "id": "e72b2dbd",
   "metadata": {},
   "outputs": [],
   "source": [
    "with open('testcleantxt.txt','r') as f:\n",
    "    for i in range (16628):\n",
    "        text = f.readline()\n",
    "    for i in range (5543):\n",
    "        text = f.readline()\n",
    "        document = language_v1.Document(content=text, type_=language_v1.Document.Type.PLAIN_TEXT)\n",
    "        sentiment = client.analyze_sentiment(request={\"document\": document}).document_sentiment\n",
    "        textList.append(text)\n",
    "        sentimentScore.append(sentiment.score)\n",
    "        sentimentMagnitude.append(sentiment.magnitude)"
   ]
  },
  {
   "cell_type": "code",
   "execution_count": null,
   "id": "6a2f7d13",
   "metadata": {},
   "outputs": [],
   "source": [
    "with open('testcleantxt.txt','r') as f:\n",
    "    for i in range (22171):\n",
    "        text = f.readline()\n",
    "    for i in range (5543):\n",
    "        text = f.readline()\n",
    "        document = language_v1.Document(content=text, type_=language_v1.Document.Type.PLAIN_TEXT)\n",
    "        sentiment = client.analyze_sentiment(request={\"document\": document}).document_sentiment\n",
    "        textList.append(text)\n",
    "        sentimentScore.append(sentiment.score)\n",
    "        sentimentMagnitude.append(sentiment.magnitude)"
   ]
  },
  {
   "cell_type": "code",
   "execution_count": 8,
   "id": "da1a6950",
   "metadata": {},
   "outputs": [],
   "source": [
    "senti = pd.DataFrame()\n",
    "senti.insert(loc=0,column='Keywords',value=textList)\n",
    "senti.insert(loc=1,column='Sentiment Score',value=sentimentScore)\n",
    "senti.insert(loc=2,column='Sentiment Magnitude',value=sentimentMagnitude)\n",
    "senti.insert(loc=3, column='UCLA Target', value= target)\n",
    "senti.to_csv('ready-testing-data.csv')"
   ]
  },
  {
   "cell_type": "code",
   "execution_count": null,
   "id": "c69ab0fd",
   "metadata": {},
   "outputs": [],
   "source": []
  },
  {
   "cell_type": "code",
   "execution_count": null,
   "id": "c1f935be",
   "metadata": {},
   "outputs": [],
   "source": []
  }
 ],
 "metadata": {
  "kernelspec": {
   "display_name": "Python 3 (ipykernel)",
   "language": "python",
   "name": "python3"
  },
  "language_info": {
   "codemirror_mode": {
    "name": "ipython",
    "version": 3
   },
   "file_extension": ".py",
   "mimetype": "text/x-python",
   "name": "python",
   "nbconvert_exporter": "python",
   "pygments_lexer": "ipython3",
   "version": "3.10.4"
  }
 },
 "nbformat": 4,
 "nbformat_minor": 5
}
