{
 "cells": [
  {
   "cell_type": "code",
   "execution_count": 2,
   "id": "319a9eef",
   "metadata": {},
   "outputs": [
    {
     "data": {
      "text/plain": [
       "(27714, 4)"
      ]
     },
     "execution_count": 2,
     "metadata": {},
     "output_type": "execute_result"
    }
   ],
   "source": [
    "#Getting the clean text, and keywords created using pre-processing.ipynb\n",
    "import pandas as pd\n",
    "df = pd.read_csv(\"Training_Data.csv\")\n",
    "cleantext = df[\"Response\"]\n",
    "target = df[\"Target\"]\n",
    "keywords = df[\"Keywords\"]\n",
    "df.shape"
   ]
  },
  {
   "cell_type": "code",
   "execution_count": 18,
   "id": "9a673eb1",
   "metadata": {},
   "outputs": [
    {
     "ename": "HTTPError",
     "evalue": "429 Client Error: Too Many Requests for url: https://api.nlpcloud.io/v1/distilbert-base-uncased-emotion/sentiment: Rate limit: maximum number of concurrent requests reached",
     "output_type": "error",
     "traceback": [
      "\u001b[1;31m---------------------------------------------------------------------------\u001b[0m",
      "\u001b[1;31mHTTPError\u001b[0m                                 Traceback (most recent call last)",
      "File \u001b[1;32m~\\Projects\\Loneliness\\env\\lib\\site-packages\\nlpcloud\\__init__.py:382\u001b[0m, in \u001b[0;36mClient.sentiment\u001b[1;34m(self, text)\u001b[0m\n\u001b[0;32m    381\u001b[0m \u001b[38;5;28;01mtry\u001b[39;00m:\n\u001b[1;32m--> 382\u001b[0m     \u001b[43mr\u001b[49m\u001b[38;5;241;43m.\u001b[39;49m\u001b[43mraise_for_status\u001b[49m\u001b[43m(\u001b[49m\u001b[43m)\u001b[49m\n\u001b[0;32m    383\u001b[0m \u001b[38;5;28;01mexcept\u001b[39;00m HTTPError \u001b[38;5;28;01mas\u001b[39;00m err:\n",
      "File \u001b[1;32m~\\Projects\\Loneliness\\env\\lib\\site-packages\\requests\\models.py:1021\u001b[0m, in \u001b[0;36mResponse.raise_for_status\u001b[1;34m(self)\u001b[0m\n\u001b[0;32m   1020\u001b[0m \u001b[38;5;28;01mif\u001b[39;00m http_error_msg:\n\u001b[1;32m-> 1021\u001b[0m     \u001b[38;5;28;01mraise\u001b[39;00m HTTPError(http_error_msg, response\u001b[38;5;241m=\u001b[39m\u001b[38;5;28mself\u001b[39m)\n",
      "\u001b[1;31mHTTPError\u001b[0m: 429 Client Error: Too Many Requests for url: https://api.nlpcloud.io/v1/distilbert-base-uncased-emotion/sentiment",
      "\nDuring handling of the above exception, another exception occurred:\n",
      "\u001b[1;31mHTTPError\u001b[0m                                 Traceback (most recent call last)",
      "Input \u001b[1;32mIn [18]\u001b[0m, in \u001b[0;36m<cell line: 10>\u001b[1;34m()\u001b[0m\n\u001b[0;32m     11\u001b[0m \u001b[38;5;28;01mfor\u001b[39;00m i \u001b[38;5;129;01min\u001b[39;00m \u001b[38;5;28mrange\u001b[39m(\u001b[38;5;241m27714\u001b[39m):\n\u001b[0;32m     12\u001b[0m \u001b[38;5;66;03m#for i in range (5542):\u001b[39;00m\n\u001b[0;32m     13\u001b[0m     text \u001b[38;5;241m=\u001b[39m f\u001b[38;5;241m.\u001b[39mreadline()\n\u001b[1;32m---> 14\u001b[0m     emotions\u001b[38;5;241m=\u001b[39m(\u001b[43mclient\u001b[49m\u001b[38;5;241;43m.\u001b[39;49m\u001b[43msentiment\u001b[49m\u001b[43m(\u001b[49m\u001b[43mtext\u001b[49m\u001b[43m)\u001b[49m)\n\u001b[0;32m     15\u001b[0m     textList\u001b[38;5;241m.\u001b[39mappend(text)\n\u001b[0;32m     16\u001b[0m     sadnessScore\u001b[38;5;241m.\u001b[39mappend(emotions[\u001b[38;5;124m'\u001b[39m\u001b[38;5;124mscored_labels\u001b[39m\u001b[38;5;124m'\u001b[39m][\u001b[38;5;241m0\u001b[39m][\u001b[38;5;124m'\u001b[39m\u001b[38;5;124mscore\u001b[39m\u001b[38;5;124m'\u001b[39m])\n",
      "File \u001b[1;32m~\\Projects\\Loneliness\\env\\lib\\site-packages\\nlpcloud\\__init__.py:384\u001b[0m, in \u001b[0;36mClient.sentiment\u001b[1;34m(self, text)\u001b[0m\n\u001b[0;32m    382\u001b[0m     r\u001b[38;5;241m.\u001b[39mraise_for_status()\n\u001b[0;32m    383\u001b[0m \u001b[38;5;28;01mexcept\u001b[39;00m HTTPError \u001b[38;5;28;01mas\u001b[39;00m err:\n\u001b[1;32m--> 384\u001b[0m     \u001b[38;5;28;01mraise\u001b[39;00m HTTPError(\u001b[38;5;28mstr\u001b[39m(err) \u001b[38;5;241m+\u001b[39m \u001b[38;5;124m\"\u001b[39m\u001b[38;5;124m: \u001b[39m\u001b[38;5;124m\"\u001b[39m \u001b[38;5;241m+\u001b[39m \u001b[38;5;28mstr\u001b[39m(r\u001b[38;5;241m.\u001b[39mtext))\n\u001b[0;32m    386\u001b[0m \u001b[38;5;28;01mreturn\u001b[39;00m r\u001b[38;5;241m.\u001b[39mjson()\n",
      "\u001b[1;31mHTTPError\u001b[0m: 429 Client Error: Too Many Requests for url: https://api.nlpcloud.io/v1/distilbert-base-uncased-emotion/sentiment: Rate limit: maximum number of concurrent requests reached"
     ]
    }
   ],
   "source": [
    "textList = []\n",
    "sadnessScore = []\n",
    "joyScore = []\n",
    "loveScore = []\n",
    "angerScore = []\n",
    "fearScore = []\n",
    "surpriseScore = []\n",
    "import nlpcloud\n",
    "client = nlpcloud.Client(\"distilbert-base-uncased-emotion\", \"1a83c0f47af3dd3eacb71543ba4e63bff50b5a4d\", gpu=False, lang=\"en\")\n",
    "with open('testcleantxt.txt','r') as f:\n",
    "    for i in range(27714):\n",
    "    #for i in range (5542):\n",
    "        text = f.readline()\n",
    "        emotions=(client.sentiment(text))\n",
    "        textList.append(text)\n",
    "        sadnessScore.append(emotions['scored_labels'][0]['score'])\n",
    "        joyScore.append(emotions['scored_labels'][1]['score'])\n",
    "        loveScore.append(emotions['scored_labels'][2]['score'])\n",
    "        angerScore.append(emotions['scored_labels'][3]['score'])\n",
    "        fearScore.append(emotions['scored_labels'][4]['score'])\n",
    "        surpriseScore.append(emotions['scored_labels'][5]['score'])"
   ]
  },
  {
   "cell_type": "code",
   "execution_count": 13,
   "id": "eea14369",
   "metadata": {},
   "outputs": [
    {
     "name": "stdout",
     "output_type": "stream",
     "text": [
      "{'scored_labels': [{'label': 'sadness', 'score': 0.9964349269866943}, {'label': 'joy', 'score': 0.0006606102106161416}, {'label': 'love', 'score': 0.00021342997206375003}, {'label': 'anger', 'score': 0.0021631342824548483}, {'label': 'fear', 'score': 0.000315174664137885}, {'label': 'surprise', 'score': 0.00021279059001244605}]}\n"
     ]
    }
   ],
   "source": []
  },
  {
   "cell_type": "code",
   "execution_count": 17,
   "id": "2d10b8d2",
   "metadata": {},
   "outputs": [
    {
     "name": "stdout",
     "output_type": "stream",
     "text": [
      "6\n"
     ]
    }
   ],
   "source": []
  },
  {
   "cell_type": "code",
   "execution_count": null,
   "id": "4f6ec5bb",
   "metadata": {},
   "outputs": [],
   "source": []
  }
 ],
 "metadata": {
  "kernelspec": {
   "display_name": "Python 3 (ipykernel)",
   "language": "python",
   "name": "python3"
  },
  "language_info": {
   "codemirror_mode": {
    "name": "ipython",
    "version": 3
   },
   "file_extension": ".py",
   "mimetype": "text/x-python",
   "name": "python",
   "nbconvert_exporter": "python",
   "pygments_lexer": "ipython3",
   "version": "3.10.4"
  }
 },
 "nbformat": 4,
 "nbformat_minor": 5
}
